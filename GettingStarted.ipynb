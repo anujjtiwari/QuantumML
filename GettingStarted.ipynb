{
 "cells": [
  {
   "cell_type": "code",
   "execution_count": null,
   "id": "74ee5c23",
   "metadata": {},
   "outputs": [],
   "source": [
    "# FIRST TUTORIAL CODE\n",
    "\n",
    "# Map problem to quantum circuits and operators: \n",
    "# Import packages to build circuits\n",
    "\n",
    "from qiskit import QuantumCircuit\n",
    "from qiskit.circuit.library import PauliTwoDesign\n",
    "from qiskit.quantum_info import SparsePauliOp\n",
    "import numpy as np\n",
    "\n",
    "\n",
    "num_qubits=30 \n",
    "qc = PauliTwoDesign(num_qubits=num_qubits,reps=4, seed=5, insert_barriers=True)\n",
    "parameters = qc.parameters\n",
    "\n",
    "\n",
    "obs = SparsePauliOp.from_sparse_list([(\"Z\", [num_qubits-2], 1)], num_qubits=num_qubits)\n",
    "\n",
    "\n",
    "# Specify circuit parameter values\n",
    "np.random.seed(0) # Specify the seed for debugging purpose such that the circuit is the same very time we run it\n",
    "phi_max = 0.5 * np.pi\n",
    "parameter_values = np.random.uniform(-1 * phi_max, phi_max, len(parameters))"
   ]
  },
  {
   "cell_type": "code",
   "execution_count": null,
   "id": "2f47ff5a",
   "metadata": {},
   "outputs": [],
   "source": []
  }
 ],
 "metadata": {
  "kernelspec": {
   "display_name": "Python 3",
   "language": "python",
   "name": "python3"
  },
  "language_info": {
   "codemirror_mode": {
    "name": "ipython",
    "version": 3
   },
   "file_extension": ".py",
   "mimetype": "text/x-python",
   "name": "python",
   "nbconvert_exporter": "python",
   "pygments_lexer": "ipython3",
   "version": "3.13.3"
  }
 },
 "nbformat": 4,
 "nbformat_minor": 5
}
