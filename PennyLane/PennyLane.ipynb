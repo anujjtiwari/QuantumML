{
 "cells": [
  {
   "cell_type": "markdown",
   "id": "1639facf",
   "metadata": {},
   "source": [
    "This Notebook contains use cases of pennylane - a python framework developed by Xanadu which is more focused on QML and Hybrid models\" <br> \n",
    "- start by installing pennylane using the command \"pip install pennylane\"\n",
    "\n",
    "\n",
    "\n",
    "Some resources to start with pennylane: \n",
    "- https://pennylane.ai/codebook"
   ]
  },
  {
   "cell_type": "code",
   "execution_count": 8,
   "id": "8b38781d",
   "metadata": {},
   "outputs": [],
   "source": [
    "# Quantum Functions\n",
    "from pennylane import numpy as np\n",
    "import pennylane as qml\n",
    "\n",
    "# In PennyLane all wires are intialized in the state |0>\n",
    "def my_first_quantum_function(theta):\n",
    "    qml.RX(theta, wires = 0) # applies a rotation around the X axis of the bloch sphere of angle theta to the qubit 0 this changes the amplitude of the qubit 0, preparing it into superposition depending on theta.\n",
    "    qml.PauliY(wires = 1)   # applies a Pauli Y gate to the qubit 1\n",
    "    qml.Hadamard(wires = 0) # Hadmard gate creates a condition of superposition in both wires\n",
    "    qml.Hadamard(wires = 1) # Hadmard gate to qubit 1 \n",
    "    # qml.draw('mpl') # This is a drawing function that visualizes the quantum circuit\n",
    "    return qml.state() # Returns a complex np array that represents the quantum state after all the gates have been applied"
   ]
  },
  {
   "cell_type": "markdown",
   "id": "fe4e54a3",
   "metadata": {},
   "source": [
    "Here, the above code will do nothing, the reason is we need a \"device\" on which this quantum circuit will run. Some devices we can use are: <br>\n",
    "\n",
    "- `default.qubit`: Vanilla qubit quantum device, for circuits without noise, it is not optimized.but it will be the first one which will be updgraded and will have the most advanced feature at any point of the time. <br>\n",
    "\n",
    "- `lightining.qubit`:  A fast noiseless qubit device. It is optimized for performance via a C++ backend, but its development will often lag a bit behind default.qubit. (highly recommended for for large circuits) <br>\n",
    "\n",
    "- `default.mixed`: A qubit device that allows noisy gates. It works with the density operator representation of quantum states.   \n"
   ]
  },
  {
   "cell_type": "code",
   "execution_count": null,
   "id": "5978214d",
   "metadata": {},
   "outputs": [],
   "source": [
    "# in default.qubit the numbers of wires argument is optional, since the backend can read our circuit and determine the number of wires automatically.\n",
    "dev = qml.device(\"default.qubit\", wires = 2)\n",
    "# now here the decorator @qml.qnode is used to convert the function into a quantum node, which can be executed on the quantum device.\n",
    "@qml.qnode(dev) # this creates the beneath function eligible to talk to a quantum device, how to run quantum gates, and how to retunr quantum results ( like measurement of state vectors).\n",
    "def my_first_quantum_function(theta): \n",
    "    qml.RX(theta, wires = 0)\n",
    "    qml.PauliY(wires = 1)\n",
    "    qml.Hadamard(wires = 0)\n",
    "    qml.Hadamard(wires = 1)\n",
    "\n",
    "    return qml.state()"
   ]
  },
  {
   "cell_type": "code",
   "execution_count": 12,
   "id": "0295e627",
   "metadata": {},
   "outputs": [
    {
     "name": "stdout",
     "output_type": "stream",
     "text": [
      "[ 0.19134172+0.46193977j -0.19134172-0.46193977j -0.19134172+0.46193977j\n",
      "  0.19134172-0.46193977j]\n"
     ]
    }
   ],
   "source": [
    "print(my_first_quantum_function(np.pi/4))  # This will print the quantum state after applying the gates with theta = 0.5"
   ]
  },
  {
   "attachments": {
    "image.png": {
     "image/png": "[encoded data removed]"
    }
   },
   "cell_type": "markdown",
   "id": "076f8dcf",
   "metadata": {},
   "source": [
    "The list above represents the amplitudes of the state in the computational basis {|00>, |01>, |10>,|11>} , in this order. Therefore the output state |Ψ> is: <br>\n",
    "![image.png](attachment:image.png) <br>\n",
    "\n",
    "in general , states will be expressed in computational basis in this 'binary counting' order."
   ]
  },
  {
   "cell_type": "code",
   "execution_count": 14,
   "id": "ac84d3e8",
   "metadata": {},
   "outputs": [],
   "source": [
    "# using custom wiring \n",
    "dev = qml.device(\"default.qubit\", wires= 3)  # default way of creating a device with 3 wires (default labeling) \n",
    "# or\n",
    "dev = qml.device(\"default.qubit\", wires = [0,1,2])\n",
    "# or\n",
    "dev = qml.device(\"default.qubit\", wires = range(3)) \n",
    "# or \n",
    "# we can change the order of the wires by specifying the the array explicitly\n",
    "dev_scrambled = qml.device(\"default.qubit\", wires = [2,0,1])  # this will create a device with wires labeled 2,0,1\n"
   ]
  },
  {
   "cell_type": "code",
   "execution_count": null,
   "id": "e1dcab20",
   "metadata": {},
   "outputs": [],
   "source": []
  }
 ],
 "metadata": {
  "kernelspec": {
   "display_name": "Python 3",
   "language": "python",
   "name": "python3"
  },
  "language_info": {
   "codemirror_mode": {
    "name": "ipython",
    "version": 3
   },
   "file_extension": ".py",
   "mimetype": "text/x-python",
   "name": "python",
   "nbconvert_exporter": "python",
   "pygments_lexer": "ipython3",
   "version": "3.13.3"
  }
 },
 "nbformat": 4,
 "nbformat_minor": 5
}
