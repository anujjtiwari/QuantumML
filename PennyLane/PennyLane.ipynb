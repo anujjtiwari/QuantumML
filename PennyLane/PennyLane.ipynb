{
 "cells": [
  {
   "cell_type": "markdown",
   "id": "1639facf",
   "metadata": {},
   "source": [
    "This Notebook contains use cases of pennylane - a python framework developed by Xanadu which is more focused on QML and Hybrid models\" <br> \n",
    "- start by installing pennylane using the command \"pip install pennylane\"\n",
    "\n",
    "\n",
    "\n",
    "Some resources to start with pennylane: \n",
    "- https://pennylane.ai/codebook"
   ]
  },
  {
   "cell_type": "code",
   "execution_count": 3,
   "id": "8b38781d",
   "metadata": {},
   "outputs": [],
   "source": [
    "import pennylane as qml\n",
    "dev = qml.device(\"default.qubit\", wires=1)"
   ]
  },
  {
   "cell_type": "code",
   "execution_count": null,
   "id": "5978214d",
   "metadata": {},
   "outputs": [],
   "source": []
  },
  {
   "cell_type": "code",
   "execution_count": null,
   "id": "0295e627",
   "metadata": {},
   "outputs": [],
   "source": []
  }
 ],
 "metadata": {
  "kernelspec": {
   "display_name": "Python 3",
   "language": "python",
   "name": "python3"
  },
  "language_info": {
   "codemirror_mode": {
    "name": "ipython",
    "version": 3
   },
   "file_extension": ".py",
   "mimetype": "text/x-python",
   "name": "python",
   "nbconvert_exporter": "python",
   "pygments_lexer": "ipython3",
   "version": "3.13.3"
  }
 },
 "nbformat": 4,
 "nbformat_minor": 5
}
